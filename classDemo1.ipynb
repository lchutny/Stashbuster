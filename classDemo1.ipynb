{
 "cells": [
  {
   "cell_type": "markdown",
   "metadata": {},
   "source": [
    "<h4>&#x2780; Starting off creating a class ... </h4> with a first_name, and defaulted values for last_name and mine (meaning whether I own that pet or not."
   ]
  },
  {
   "cell_type": "code",
   "execution_count": 2,
   "metadata": {},
   "outputs": [],
   "source": [
    "class Animals:\n",
    "    def __init__(self, first_name, last_name=\"the Cat\", mine=False):\n",
    "        self.first_name = first_name\n",
    "        self.last_name = last_name\n",
    "        self.mine = mine\n",
    "\n",
    "    def soundOff(self):\n",
    "        print(\"Should I purr or bark?\")\n",
    "\n",
    "    def run(self):\n",
    "        print(\"Up the tree or chase my tail?\")"
   ]
  },
  {
   "cell_type": "markdown",
   "metadata": {},
   "source": [
    "<h4>&#x2781; And create a <font color=\"red\">child class</font>, called Suky from base-class Animals - &#x1f63a;"
   ]
  },
  {
   "cell_type": "code",
   "execution_count": 3,
   "metadata": {},
   "outputs": [
    {
     "name": "stdout",
     "output_type": "stream",
     "text": [
      "Suky the Cat\n",
      "Should I purr or bark?\n",
      "True\n"
     ]
    }
   ],
   "source": [
    "class Suky(Animals):\n",
    "    # I have a cat named Suky\n",
    "    pass\n",
    "\n",
    "cat1 = Suky(\"Suky\")\n",
    "print(cat1.first_name + \" \"+cat1.last_name)\n",
    "cat1.soundOff()\n",
    "cat1.mine = True\n",
    "print(cat1.mine)"
   ]
  },
  {
   "cell_type": "markdown",
   "metadata": {},
   "source": [
    "<h4>&#x2782; And another child class, with its own <font color='red'>method</font> not available to the parent.  &#x1f408;"
   ]
  },
  {
   "cell_type": "code",
   "execution_count": 4,
   "metadata": {},
   "outputs": [],
   "source": [
    "class Kitty(Animals):\n",
    "    pass # required unless you write your own __init()__\n",
    "\n",
    "    def favoriteActivity(self):\n",
    "        print(\"Chasing the birds.\")\n"
   ]
  },
  {
   "cell_type": "markdown",
   "metadata": {},
   "source": [
    "<h4>Take it for a ride!</h4>  &#x1f405;"
   ]
  },
  {
   "cell_type": "code",
   "execution_count": 5,
   "metadata": {},
   "outputs": [
    {
     "name": "stdout",
     "output_type": "stream",
     "text": [
      "BabyKitty the Cat\n",
      "Should I purr or bark?\n",
      "Chasing the birds.\n"
     ]
    }
   ],
   "source": [
    "# I have another cat, orange tabby named BabyKitty ... she's more active and her favorite is ... \n",
    "b = Kitty('BabyKitty')\n",
    "print(b.first_name + \" \" + b.last_name)\n",
    "b.soundOff()\n",
    "b.favoriteActivity()"
   ]
  },
  {
   "cell_type": "markdown",
   "metadata": {},
   "source": [
    "<h4>&#x2783; Let&rsquo;s create a new class that <font color='red'>overwrites</font> the parent's init</h4>"
   ]
  },
  {
   "cell_type": "code",
   "execution_count": 6,
   "metadata": {},
   "outputs": [
    {
     "name": "stdout",
     "output_type": "stream",
     "text": [
      "Should I purr or bark?\n",
      "Up the tree or chase my tail?\n",
      "False\n"
     ]
    }
   ],
   "source": [
    "class Dog(Animals):\n",
    "    \n",
    "    # overwriting the parent init()\n",
    "    def __init__(self, first_name, last_name=\"the Dog\", mine=True):\n",
    "        self.first_name = first_name\n",
    "        self.last_name  = last_name;\n",
    "        self.mine = False;  # change the default mine = True\n",
    "        \n",
    "    def chase(self, who=\"Postman\"):\n",
    "        print(who)\n",
    "        \n",
    "\n",
    "d = Dog(\"Toby\")\n",
    "d.soundOff()\n",
    "d.run()\n",
    "print(d.mine)"
   ]
  },
  {
   "cell_type": "markdown",
   "metadata": {},
   "source": [
    "<h4>&#x2784; Let&rsquo;s <font color='red'>overwrite a parent method</font>.</h4>  &#x1f436;"
   ]
  },
  {
   "cell_type": "code",
   "execution_count": 7,
   "metadata": {},
   "outputs": [
    {
     "name": "stdout",
     "output_type": "stream",
     "text": [
      "Mailman\n",
      "This is the overwritten run\n"
     ]
    }
   ],
   "source": [
    "# let's create a child from a child ... a grandchild of Animals\n",
    "class Lassie(Dog):\n",
    "    def __init__(self,mine = False):\n",
    "        self.mine = mine\n",
    "        super().__init__(self)\n",
    "\n",
    "    # method overwriting the parent class\n",
    "    def run(self):\n",
    "        print(\"This is the overwritten run\")\n",
    "\n",
    "puppy = Lassie()\n",
    "puppy.chase(\"Mailman\")  ## unique to Dogs.\n",
    "\n",
    "puppy.run()"
   ]
  },
  {
   "cell_type": "code",
   "execution_count": 8,
   "metadata": {},
   "outputs": [],
   "source": [
    "class Jack(Animals):\n",
    "    # overwrite the parent class init()\n",
    "    def __init__(self, first_name, last_name=\"Jones\", mine=True):\n",
    "        self.first_name = first_name\n",
    "        self.last_name = last_name\n",
    "    \n",
    "    # methods not in the parent class\n",
    "    def sayHello(self):\n",
    "        print(\"This sayHello from Jack.\")\n",
    "        \n",
    "    def sayGoodBye(self):\n",
    "        print(\"This is adios.\")\n",
    "        \n",
    "    # using a parent class method\n",
    "    def run(self):\n",
    "        return \"Run around in circles.\"\n",
    "        "
   ]
  },
  {
   "cell_type": "code",
   "execution_count": 9,
   "metadata": {},
   "outputs": [
    {
     "name": "stdout",
     "output_type": "stream",
     "text": [
      "toby Jones\n",
      "This sayHello from Jack.\n",
      "This is adios.\n"
     ]
    },
    {
     "data": {
      "text/plain": [
       "'Run around in circles.'"
      ]
     },
     "execution_count": 9,
     "metadata": {},
     "output_type": "execute_result"
    }
   ],
   "source": [
    "toby = Jack(\"toby\")\n",
    "print(toby.first_name + \" \" + toby.last_name)\n",
    "toby.sayHello()\n",
    "# notice that because we've overwritten the parent class\n",
    "toby.sayGoodBye()\n",
    "toby.run()"
   ]
  },
  {
   "cell_type": "markdown",
   "metadata": {},
   "source": [
    "<h4>&#x2784; <font color='red'>Multiple Inheritance</font></h4>"
   ]
  },
  {
   "cell_type": "code",
   "execution_count": 12,
   "metadata": {},
   "outputs": [
    {
     "ename": "SyntaxError",
     "evalue": "invalid syntax (<ipython-input-12-06dd3a9c4b49>, line 15)",
     "output_type": "error",
     "traceback": [
      "\u001b[1;36m  File \u001b[1;32m\"<ipython-input-12-06dd3a9c4b49>\"\u001b[1;36m, line \u001b[1;32m15\u001b[0m\n\u001b[1;33m    <p>I will display &#x25BA;</p>\u001b[0m\n\u001b[1;37m    ^\u001b[0m\n\u001b[1;31mSyntaxError\u001b[0m\u001b[1;31m:\u001b[0m invalid syntax\n"
     ]
    }
   ],
   "source": [
    "class Bird:\n",
    "    def soundIMake(self):\n",
    "        print(\"I go TWEET. (from Bird class)\")\n",
    "\n",
    "class NewBird(Animals, Bird):\n",
    "    pass\n",
    "\n",
    "    def birdsOrScales(self, thetype):\n",
    "        return \"You have \"+thetype+\" (from NewBird class)\"\n",
    "\n",
    "canary = NewBird(\"Orville the Bird\")\n",
    "canary.soundIMake()\n",
    "canary.birdsOrScales(\"feathers\")\n",
    "\n",
    "<p>I will display &#x25BA;</p>"
   ]
  },
  {
   "cell_type": "markdown",
   "metadata": {},
   "source": [
    "Good luck!  &#x1f31d;"
   ]
  }
 ],
 "metadata": {
  "kernelspec": {
   "display_name": "Python 3",
   "language": "python",
   "name": "python3"
  },
  "language_info": {
   "codemirror_mode": {
    "name": "ipython",
    "version": 3
   },
   "file_extension": ".py",
   "mimetype": "text/x-python",
   "name": "python",
   "nbconvert_exporter": "python",
   "pygments_lexer": "ipython3",
   "version": "3.7.0"
  }
 },
 "nbformat": 4,
 "nbformat_minor": 2
}
